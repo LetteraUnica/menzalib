{
 "cells": [
  {
   "cell_type": "code",
   "execution_count": 1,
   "id": "4a6cfd19-ac46-4a7e-a2ad-6b256042026f",
   "metadata": {},
   "outputs": [],
   "source": [
    "import numpy as np\n",
    "from numpy import sqrt, absolute, log, ones, zeros, array, transpose\n",
    "from numpy.linalg import multi_dot\n",
    "from numpy.random import sample\n",
    "from scipy.optimize import curve_fit\n",
    "from scipy.stats import chi2\n",
    "from numdifftools.nd_algopy import Gradient, Derivative\n",
    "from inspect import signature\n",
    "\n",
    "from scipy import stats\n",
    "from jax import random\n",
    "from jax import numpy as jnp\n",
    "from warnings import warn\n",
    "\n",
    "from jax.config import config\n",
    "config.update(\"jax_enable_x64\", True)\n",
    "\n",
    "import numpy as np\n",
    "import pylab as pl\n",
    "from jax import grad\n",
    "from jax import numpy as jnp\n",
    "from jax import random\n",
    "from scipy import stats\\\n",
    "\n",
    "import line_profiler\n",
    "%load_ext line_profiler\n",
    "\n",
    "from analisi_errori import *"
   ]
  },
  {
   "cell_type": "code",
   "execution_count": 11,
   "metadata": {},
   "outputs": [
    {
     "output_type": "execute_result",
     "data": {
      "text/plain": [
       "array([0.01990827, 0.07930196, 0.4997989 , 0.50276367])"
      ]
     },
     "metadata": {},
     "execution_count": 11
    }
   ],
   "source": [
    "x = np.array([1,2,5,5])\n",
    "dx = x*0.01\n",
    "\n",
    "propagate_errors(f, x, dx)"
   ]
  },
  {
   "cell_type": "code",
   "execution_count": 3,
   "metadata": {},
   "outputs": [
    {
     "output_type": "stream",
     "name": "stderr",
     "text": [
      "WARNING:absl:No GPU/TPU found, falling back to CPU. (Set TF_CPP_MIN_LOG_LEVEL=0 and rerun for more info.)\n"
     ]
    },
    {
     "output_type": "execute_result",
     "data": {
      "text/plain": [
       "array([[ 1.59921062e-05, -1.29630637e-05,  1.22674165e-06],\n",
       "       [-1.29630637e-05,  1.66506017e-05, -7.01510621e-06],\n",
       "       [ 1.22674165e-06, -7.01510621e-06,  6.00985934e-06]])"
      ]
     },
     "metadata": {},
     "execution_count": 3
    }
   ],
   "source": [
    "def f(x):\n",
    "    return x**2\n",
    "\n",
    "cov = np.random.normal(0, 1, (3, 3))\n",
    "cov = cov@cov.T\n",
    "x = [1]*3\n",
    "\n",
    "dy(f, x, 1e-6*cov)"
   ]
  },
  {
   "cell_type": "code",
   "execution_count": 50,
   "metadata": {},
   "outputs": [
    {
     "output_type": "stream",
     "text": [
      "Timer unit: 1e-06 s\n",
      "\n",
      "Total time: 1.82342 s\n",
      "File: <ipython-input-49-1c9a3e85c56e>\n",
      "Function: compute_error at line 7\n",
      "\n",
      "Line #      Hits         Time  Per Hit   % Time  Line Contents\n",
      "==============================================================\n",
      "     7                                           def compute_error(f, x, pcov, n_samples=10000000):\n",
      "     8         1       1442.0   1442.0      0.1      x, pcov = jnp.array(x, dtype=jnp.float64), jnp.array(pcov, dtype=jnp.float64)\n",
      "     9                                           \n",
      "    10         1          4.0      4.0      0.0      seed = int(time.time())\n",
      "    11         1       2850.0   2850.0      0.2      key = random.PRNGKey(seed)\n",
      "    12                                               \n",
      "    13         1        115.0    115.0      0.0      samples = random.multivariate_normal(key, mean=x, cov=pcov, shape=(int(n_samples),))\n",
      "    14         1    1803234.0 1803234.0     98.9      y = f(samples.T)\n",
      "    15         1      11236.0  11236.0      0.6      mean = f(x)\n",
      "    16                                           \n",
      "    17         1       4541.0   4541.0      0.2      return jnp.cov(y, ddof=1)"
     ],
     "name": "stdout"
    }
   ],
   "source": [
    "%lprun -f compute_error compute_error(f,x,cov)"
   ]
  },
  {
   "cell_type": "code",
   "execution_count": null,
   "id": "22975e88-2445-4c6b-81cb-541cfb05a195",
   "metadata": {},
   "outputs": [],
   "source": [
    "# Creates a multivariate uniform distrubution, mainly for fun\n",
    "def multivariate_uniform(mean, cov, n_samples):\n",
    "    mean = np.array(mean)\n",
    "    xs = np.empty((n_samples, cov.shape[0]))\n",
    "    chol = np.linalg.cholesky(cov)\n",
    "    for i in range(cov.shape[0]):\n",
    "        xs[:, i] = np.random.uniform(-np.sqrt(12)/2, np.sqrt(12)/2, size=n_samples)\n",
    "    \n",
    "    return xs@chol.T + mean\n",
    "\n",
    "cov = np.random.normal(0, 1, (2, 2))\n",
    "cov = cov@cov.T\n",
    "mean = [0]*2\n",
    "x, y = multivariate_uniform(mean, cov, 1000).T\n",
    "xn, yn = np.random.multivariate_normal(mean, cov, 1000).T\n",
    "\n",
    "pl.plot(x, y, '.')\n",
    "pl.plot(xn, yn, '.')"
   ]
  },
  {
   "cell_type": "code",
   "execution_count": 25,
   "id": "465451e9-6928-4339-9acf-5f8fc5236144",
   "metadata": {},
   "outputs": [
    {
     "name": "stdout",
     "output_type": "stream",
     "text": [
      "CPU times: user 134 ms, sys: 111 µs, total: 134 ms\n",
      "Wall time: 108 ms\n",
      "CPU times: user 38.4 ms, sys: 11.6 ms, total: 50 ms\n",
      "Wall time: 14.4 ms\n"
     ]
    }
   ],
   "source": [
    "# Faster random number generation using jax\n",
    "\n",
    "key = random.PRNGKey(0)\n",
    "mean = jnp.array([0]*3)\n",
    "cov = jnp.array(cov)\n",
    "\n",
    "%time x=np.random.multivariate_normal(mean, cov, size=1000000)\n",
    "%time x=random.multivariate_normal(key, mean=mean, cov=cov, shape=(int(1e8),))"
   ]
  }
 ],
 "metadata": {
  "kernelspec": {
   "name": "python388jvsc74a57bd0826ac774da20863171be87f505c983a23ca5099031a67b4f2c0e4fe6baa8958e",
   "display_name": "Python 3.8.8 64-bit ('base': conda)"
  },
  "language_info": {
   "codemirror_mode": {
    "name": "ipython",
    "version": 3
   },
   "file_extension": ".py",
   "mimetype": "text/x-python",
   "name": "python",
   "nbconvert_exporter": "python",
   "pygments_lexer": "ipython3",
   "version": "3.8.8"
  }
 },
 "nbformat": 4,
 "nbformat_minor": 5
}