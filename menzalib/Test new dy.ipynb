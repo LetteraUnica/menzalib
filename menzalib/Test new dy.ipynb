{
 "cells": [
  {
   "cell_type": "code",
   "execution_count": 1,
   "id": "4a6cfd19-ac46-4a7e-a2ad-6b256042026f",
   "metadata": {},
   "outputs": [],
   "source": [
    "import numpy as np\n",
    "import pylab as pl\n",
    "from jax import grad\n",
    "from jax import numpy as jnp\n",
    "from jax import random\n",
    "from scipy import stats\n",
    "\n",
    "import line_profiler\n",
    "%load_ext line_profiler"
   ]
  },
  {
   "cell_type": "code",
   "execution_count": 67,
   "metadata": {},
   "outputs": [],
   "source": [
    "cov = np.random.normal(0, 1, (3, 3))\n",
    "cov = cov@cov.T\n",
    "x = [1]*3"
   ]
  },
  {
   "cell_type": "code",
   "execution_count": 50,
   "metadata": {},
   "outputs": [
    {
     "output_type": "stream",
     "text": [
      "Timer unit: 1e-06 s\n",
      "\n",
      "Total time: 1.82342 s\n",
      "File: <ipython-input-49-1c9a3e85c56e>\n",
      "Function: compute_error at line 7\n",
      "\n",
      "Line #      Hits         Time  Per Hit   % Time  Line Contents\n",
      "==============================================================\n",
      "     7                                           def compute_error(f, x, pcov, n_samples=10000000):\n",
      "     8         1       1442.0   1442.0      0.1      x, pcov = jnp.array(x, dtype=jnp.float64), jnp.array(pcov, dtype=jnp.float64)\n",
      "     9                                           \n",
      "    10         1          4.0      4.0      0.0      seed = int(time.time())\n",
      "    11         1       2850.0   2850.0      0.2      key = random.PRNGKey(seed)\n",
      "    12                                               \n",
      "    13         1        115.0    115.0      0.0      samples = random.multivariate_normal(key, mean=x, cov=pcov, shape=(int(n_samples),))\n",
      "    14         1    1803234.0 1803234.0     98.9      y = f(samples.T)\n",
      "    15         1      11236.0  11236.0      0.6      mean = f(x)\n",
      "    16                                           \n",
      "    17         1       4541.0   4541.0      0.2      return jnp.cov(y, ddof=1)"
     ],
     "name": "stdout"
    }
   ],
   "source": [
    "%lprun -f compute_error compute_error(f,x,cov)"
   ]
  },
  {
   "cell_type": "code",
   "execution_count": 20,
   "id": "d5e49c34-ed9c-4060-9c40-783acde534f6",
   "metadata": {},
   "outputs": [
    {
     "output_type": "stream",
     "name": "stderr",
     "text": [
      "/home/lettera/anaconda3/lib/python3.8/site-packages/jax/_src/numpy/lax_numpy.py:2929: UserWarning: Explicitly requested dtype <class 'jax._src.numpy.lax_numpy.float64'> requested in array is not available, and will be truncated to dtype float32. To enable more dtypes, set the jax_enable_x64 configuration option or the JAX_ENABLE_X64 shell environment variable. See https://github.com/google/jax#current-gotchas for more.\n  lax._check_user_dtype_supported(dtype, \"array\")\nWARNING:absl:No GPU/TPU found, falling back to CPU. (Set TF_CPP_MIN_LOG_LEVEL=0 and rerun for more info.)\n"
     ]
    },
    {
     "output_type": "error",
     "ename": "NameError",
     "evalue": "name 'time' is not defined",
     "traceback": [
      "\u001b[0;31m---------------------------------------------------------------------------\u001b[0m",
      "\u001b[0;31mNameError\u001b[0m                                 Traceback (most recent call last)",
      "\u001b[0;32m<ipython-input-20-3e2c292ffe59>\u001b[0m in \u001b[0;36m<module>\u001b[0;34m\u001b[0m\n\u001b[1;32m     17\u001b[0m     \u001b[0;32mreturn\u001b[0m \u001b[0mjnp\u001b[0m\u001b[0;34m.\u001b[0m\u001b[0mcov\u001b[0m\u001b[0;34m(\u001b[0m\u001b[0my\u001b[0m\u001b[0;34m,\u001b[0m \u001b[0mddof\u001b[0m\u001b[0;34m=\u001b[0m\u001b[0;36m1\u001b[0m\u001b[0;34m)\u001b[0m\u001b[0;34m\u001b[0m\u001b[0;34m\u001b[0m\u001b[0m\n\u001b[1;32m     18\u001b[0m \u001b[0;34m\u001b[0m\u001b[0m\n\u001b[0;32m---> 19\u001b[0;31m \u001b[0mcompute_error\u001b[0m\u001b[0;34m(\u001b[0m\u001b[0mf\u001b[0m\u001b[0;34m,\u001b[0m \u001b[0mx\u001b[0m\u001b[0;34m,\u001b[0m \u001b[0mcov\u001b[0m\u001b[0;34m)\u001b[0m\u001b[0;34m\u001b[0m\u001b[0;34m\u001b[0m\u001b[0m\n\u001b[0m",
      "\u001b[0;32m<ipython-input-20-3e2c292ffe59>\u001b[0m in \u001b[0;36mcompute_error\u001b[0;34m(f, x, pcov, n_samples)\u001b[0m\n\u001b[1;32m      8\u001b[0m     \u001b[0mx\u001b[0m\u001b[0;34m,\u001b[0m \u001b[0mpcov\u001b[0m \u001b[0;34m=\u001b[0m \u001b[0mjnp\u001b[0m\u001b[0;34m.\u001b[0m\u001b[0marray\u001b[0m\u001b[0;34m(\u001b[0m\u001b[0mx\u001b[0m\u001b[0;34m,\u001b[0m \u001b[0mdtype\u001b[0m\u001b[0;34m=\u001b[0m\u001b[0mjnp\u001b[0m\u001b[0;34m.\u001b[0m\u001b[0mfloat64\u001b[0m\u001b[0;34m)\u001b[0m\u001b[0;34m,\u001b[0m \u001b[0mjnp\u001b[0m\u001b[0;34m.\u001b[0m\u001b[0marray\u001b[0m\u001b[0;34m(\u001b[0m\u001b[0mpcov\u001b[0m\u001b[0;34m,\u001b[0m \u001b[0mdtype\u001b[0m\u001b[0;34m=\u001b[0m\u001b[0mjnp\u001b[0m\u001b[0;34m.\u001b[0m\u001b[0mfloat64\u001b[0m\u001b[0;34m)\u001b[0m\u001b[0;34m\u001b[0m\u001b[0;34m\u001b[0m\u001b[0m\n\u001b[1;32m      9\u001b[0m \u001b[0;34m\u001b[0m\u001b[0m\n\u001b[0;32m---> 10\u001b[0;31m     \u001b[0mseed\u001b[0m \u001b[0;34m=\u001b[0m \u001b[0mint\u001b[0m\u001b[0;34m(\u001b[0m\u001b[0mtime\u001b[0m\u001b[0;34m.\u001b[0m\u001b[0mtime\u001b[0m\u001b[0;34m(\u001b[0m\u001b[0;34m)\u001b[0m\u001b[0;34m)\u001b[0m\u001b[0;34m\u001b[0m\u001b[0;34m\u001b[0m\u001b[0m\n\u001b[0m\u001b[1;32m     11\u001b[0m     \u001b[0mkey\u001b[0m \u001b[0;34m=\u001b[0m \u001b[0mrandom\u001b[0m\u001b[0;34m.\u001b[0m\u001b[0mPRNGKey\u001b[0m\u001b[0;34m(\u001b[0m\u001b[0mseed\u001b[0m\u001b[0;34m)\u001b[0m\u001b[0;34m\u001b[0m\u001b[0;34m\u001b[0m\u001b[0m\n\u001b[1;32m     12\u001b[0m \u001b[0;34m\u001b[0m\u001b[0m\n",
      "\u001b[0;31mNameError\u001b[0m: name 'time' is not defined"
     ]
    }
   ],
   "source": [
    "# Monte carlo based error propagation\n",
    "def f(x):\n",
    "    # x, y, z = x.T\n",
    "    # return np.array([x**2, np.sin(x*y), np.cos(x*y/z)])\n",
    "    return np.array([x[0]**2, np.sin(x[0]*x[0]), np.cos(x[0]*x[1]*x[2])])\n",
    "\n",
    "def compute_error(f, x, pcov, n_samples=1e6):\n",
    "    x, pcov = jnp.array(x, dtype=jnp.float64), jnp.array(pcov, dtype=jnp.float64)\n",
    "\n",
    "    seed = int(time.time())\n",
    "    key = random.PRNGKey(seed)\n",
    "    \n",
    "    samples = random.multivariate_normal(key, mean=x, cov=pcov, shape=(int(n_samples),))\n",
    "    y = f(samples.T)\n",
    "    mean = f(x)\n",
    "\n",
    "    return jnp.cov(y, ddof=1)\n",
    "\n",
    "compute_error(f, x, cov)"
   ]
  },
  {
   "cell_type": "code",
   "execution_count": null,
   "id": "22975e88-2445-4c6b-81cb-541cfb05a195",
   "metadata": {},
   "outputs": [],
   "source": [
    "# Creates a multivariate uniform distrubution, mainly for fun\n",
    "def multivariate_uniform(mean, cov, n_samples):\n",
    "    mean = np.array(mean)\n",
    "    xs = np.empty((n_samples, cov.shape[0]))\n",
    "    chol = np.linalg.cholesky(cov)\n",
    "    for i in range(cov.shape[0]):\n",
    "        xs[:, i] = np.random.uniform(-np.sqrt(12)/2, np.sqrt(12)/2, size=n_samples)\n",
    "    \n",
    "    return xs@chol.T + mean\n",
    "\n",
    "cov = np.random.normal(0, 1, (2, 2))\n",
    "cov = cov@cov.T\n",
    "mean = [0]*2\n",
    "x, y = multivariate_uniform(mean, cov, 1000).T\n",
    "xn, yn = np.random.multivariate_normal(mean, cov, 1000).T\n",
    "\n",
    "pl.plot(x, y, '.')\n",
    "pl.plot(xn, yn, '.')"
   ]
  },
  {
   "cell_type": "code",
   "execution_count": null,
   "id": "28af6464-937b-4471-acf9-ac50875c344c",
   "metadata": {},
   "outputs": [],
   "source": [
    "# Gradient based tests for error propagation\n",
    "\n",
    "\n",
    "def h(x):\n",
    "    return jnp.sin(x)\n",
    "\n",
    "def derivate(f, x, h=1e-4):\n",
    "    return (f(x+h) - f(x-h)) / (2*h)\n",
    "    \n",
    "g = grad(h)\n",
    "\n",
    "g(0.)\n",
    "\n",
    "g(np.pi*0.5)"
   ]
  },
  {
   "cell_type": "code",
   "execution_count": 7,
   "metadata": {},
   "outputs": [
    {
     "output_type": "execute_result",
     "data": {
      "text/plain": [
       "DeviceArray([12.,  2.,  3., 45.], dtype=float64)"
      ]
     },
     "metadata": {},
     "execution_count": 7
    }
   ],
   "source": [
    "from jax.config import config\n",
    "config.update(\"jax_enable_x64\", True)\n",
    "\n",
    "import time\n",
    "import jax\n",
    "\n",
    "jax.numpy.array([12,2,3,45], dtype=float)"
   ]
  },
  {
   "cell_type": "code",
   "execution_count": 25,
   "id": "465451e9-6928-4339-9acf-5f8fc5236144",
   "metadata": {},
   "outputs": [
    {
     "name": "stdout",
     "output_type": "stream",
     "text": [
      "CPU times: user 134 ms, sys: 111 µs, total: 134 ms\n",
      "Wall time: 108 ms\n",
      "CPU times: user 38.4 ms, sys: 11.6 ms, total: 50 ms\n",
      "Wall time: 14.4 ms\n"
     ]
    }
   ],
   "source": [
    "# Faster number generation using jax\n",
    "\n",
    "\n",
    "key = random.PRNGKey(0)\n",
    "mean = jnp.array([0]*3)\n",
    "cov = jnp.array(cov)\n",
    "\n",
    "%time x=np.random.multivariate_normal(mean, cov, size=1000000)\n",
    "%time x=random.multivariate_normal(key, mean=mean, cov=cov, shape=(int(1e8),))"
   ]
  },
  {
   "cell_type": "code",
   "execution_count": 29,
   "id": "55a84001-c8f7-441f-af9b-712104910352",
   "metadata": {},
   "outputs": [
    {
     "data": {
      "text/plain": [
       "DeviceArray([[2.6600852, 0.7940799, 2.9283135],\n",
       "             [0.7940799, 2.3275447, 2.533829 ],\n",
       "             [2.9283135, 2.533829 , 5.1483064]], dtype=float32)"
      ]
     },
     "execution_count": 29,
     "metadata": {},
     "output_type": "execute_result"
    }
   ],
   "source": [
    "cov"
   ]
  },
  {
   "cell_type": "code",
   "execution_count": 28,
   "id": "a01e6a89-5f2b-43aa-9e3b-66952aaa6d28",
   "metadata": {},
   "outputs": [
    {
     "data": {
      "text/plain": [
       "DeviceArray([[2.660535 , 0.7941171, 2.9286234],\n",
       "             [0.7941171, 2.3282158, 2.5344994],\n",
       "             [2.9286234, 2.5344994, 5.149097 ]], dtype=float32)"
      ]
     },
     "execution_count": 28,
     "metadata": {},
     "output_type": "execute_result"
    }
   ],
   "source": [
    "jnp.cov(x.T)"
   ]
  }
 ],
 "metadata": {
  "kernelspec": {
   "name": "python388jvsc74a57bd0826ac774da20863171be87f505c983a23ca5099031a67b4f2c0e4fe6baa8958e",
   "display_name": "Python 3.8.8 64-bit ('base': conda)"
  },
  "language_info": {
   "codemirror_mode": {
    "name": "ipython",
    "version": 3
   },
   "file_extension": ".py",
   "mimetype": "text/x-python",
   "name": "python",
   "nbconvert_exporter": "python",
   "pygments_lexer": "ipython3",
   "version": "3.8.8"
  }
 },
 "nbformat": 4,
 "nbformat_minor": 5
}