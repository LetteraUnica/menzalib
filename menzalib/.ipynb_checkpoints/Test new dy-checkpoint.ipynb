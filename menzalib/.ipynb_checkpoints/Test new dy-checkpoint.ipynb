{
 "cells": [
  {
   "cell_type": "code",
   "execution_count": 2,
   "id": "4a6cfd19-ac46-4a7e-a2ad-6b256042026f",
   "metadata": {},
   "outputs": [],
   "source": [
    "import numpy as np\n",
    "import pylab as pl"
   ]
  },
  {
   "cell_type": "code",
   "execution_count": 24,
   "id": "d5e49c34-ed9c-4060-9c40-783acde534f6",
   "metadata": {},
   "outputs": [
    {
     "name": "stdout",
     "output_type": "stream",
     "text": [
      "CPU times: user 36.7 ms, sys: 0 ns, total: 36.7 ms\n",
      "Wall time: 23.5 ms\n"
     ]
    },
    {
     "data": {
      "text/plain": [
       "(array([0., 0., 1.]),\n",
       " array([[14.28375367, -0.53446496, -0.7747443 ],\n",
       "        [-0.53446496,  0.30886558,  0.01501942],\n",
       "        [-0.7747443 ,  0.01501942,  0.48834384]]))"
      ]
     },
     "execution_count": 24,
     "metadata": {},
     "output_type": "execute_result"
    }
   ],
   "source": [
    "# Monte carlo based error propagation\n",
    "def f(x):\n",
    "    # x, y, z = x.T\n",
    "    # return np.array([x**2, np.sin(x*y), np.cos(x*y/z)])\n",
    "    return np.array([x[0]**2, np.sin(x[0]*x[0]), np.cos(x[0]*x[1]*x[2])])\n",
    "\n",
    "def compute_error(f, mean, cov, n_samples=100000):\n",
    "    mean = np.array(mean)\n",
    "    cov = np.array(cov)\n",
    "    xs = np.random.multivariate_normal(mean, cov, size=n_samples)\n",
    "    ys = f(xs.T)\n",
    "    return f(mean), np.cov(ys, ddof=1)\n",
    "\n",
    "cov = np.random.normal(0, 1, (3, 3))\n",
    "cov = cov@cov.T\n",
    "cov\n",
    "x = [0]*3"
   ]
  },
  {
   "cell_type": "code",
   "execution_count": null,
   "id": "22975e88-2445-4c6b-81cb-541cfb05a195",
   "metadata": {},
   "outputs": [],
   "source": [
    "# Creates a multivariate uniform distrubution, mainly for fun\n",
    "def multivariate_uniform(mean, cov, n_samples):\n",
    "    mean = np.array(mean)\n",
    "    xs = np.empty((n_samples, cov.shape[0]))\n",
    "    chol = np.linalg.cholesky(cov)\n",
    "    for i in range(cov.shape[0]):\n",
    "        xs[:, i] = np.random.uniform(-np.sqrt(12)/2, np.sqrt(12)/2, size=n_samples)\n",
    "    \n",
    "    return xs@chol.T + mean\n",
    "\n",
    "cov = np.random.normal(0, 1, (2, 2))\n",
    "cov = cov@cov.T\n",
    "mean = [0]*2\n",
    "x, y = multivariate_uniform(mean, cov, 1000).T\n",
    "xn, yn = np.random.multivariate_normal(mean, cov, 1000).T\n",
    "\n",
    "pl.plot(x, y, '.')\n",
    "pl.plot(xn, yn, '.')"
   ]
  },
  {
   "cell_type": "code",
   "execution_count": null,
   "id": "28af6464-937b-4471-acf9-ac50875c344c",
   "metadata": {},
   "outputs": [],
   "source": [
    "# Gradient based tests for error propagation\n",
    "from jax import grad\n",
    "from jax import numpy as jnp\n",
    "\n",
    "def h(x):\n",
    "    return jnp.sin(x)\n",
    "\n",
    "def derivate(f, x, h=1e-4):\n",
    "    return (f(x+h) - f(x-h)) / (2*h)\n",
    "    \n",
    "g = grad(h)\n",
    "\n",
    "g(0.)\n",
    "\n",
    "g(np.pi*0.5)"
   ]
  },
  {
   "cell_type": "code",
   "execution_count": 25,
   "id": "465451e9-6928-4339-9acf-5f8fc5236144",
   "metadata": {},
   "outputs": [
    {
     "name": "stdout",
     "output_type": "stream",
     "text": [
      "CPU times: user 134 ms, sys: 111 µs, total: 134 ms\n",
      "Wall time: 108 ms\n",
      "CPU times: user 38.4 ms, sys: 11.6 ms, total: 50 ms\n",
      "Wall time: 14.4 ms\n"
     ]
    }
   ],
   "source": [
    "# Faster number generation using jax\n",
    "from jax import random\n",
    "from jax import grad\n",
    "from jax import numpy as jnp\n",
    "\n",
    "key = random.PRNGKey(0)\n",
    "mean = jnp.array([0]*3)\n",
    "cov = jnp.array(cov)\n",
    "\n",
    "%time x=np.random.multivariate_normal(mean, cov, size=1000000)\n",
    "%time x=random.multivariate_normal(key, mean=mean, cov=cov, shape=(int(1e8),))"
   ]
  },
  {
   "cell_type": "code",
   "execution_count": 29,
   "id": "55a84001-c8f7-441f-af9b-712104910352",
   "metadata": {},
   "outputs": [
    {
     "data": {
      "text/plain": [
       "DeviceArray([[2.6600852, 0.7940799, 2.9283135],\n",
       "             [0.7940799, 2.3275447, 2.533829 ],\n",
       "             [2.9283135, 2.533829 , 5.1483064]], dtype=float32)"
      ]
     },
     "execution_count": 29,
     "metadata": {},
     "output_type": "execute_result"
    }
   ],
   "source": [
    "cov"
   ]
  },
  {
   "cell_type": "code",
   "execution_count": 28,
   "id": "a01e6a89-5f2b-43aa-9e3b-66952aaa6d28",
   "metadata": {},
   "outputs": [
    {
     "data": {
      "text/plain": [
       "DeviceArray([[2.660535 , 0.7941171, 2.9286234],\n",
       "             [0.7941171, 2.3282158, 2.5344994],\n",
       "             [2.9286234, 2.5344994, 5.149097 ]], dtype=float32)"
      ]
     },
     "execution_count": 28,
     "metadata": {},
     "output_type": "execute_result"
    }
   ],
   "source": [
    "jnp.cov(x.T)"
   ]
  }
 ],
 "metadata": {
  "kernelspec": {
   "display_name": "Python 3",
   "language": "python",
   "name": "python3"
  },
  "language_info": {
   "codemirror_mode": {
    "name": "ipython",
    "version": 3
   },
   "file_extension": ".py",
   "mimetype": "text/x-python",
   "name": "python",
   "nbconvert_exporter": "python",
   "pygments_lexer": "ipython3",
   "version": "3.8.8"
  }
 },
 "nbformat": 4,
 "nbformat_minor": 5
}
